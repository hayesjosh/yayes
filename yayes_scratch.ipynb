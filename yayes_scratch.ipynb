{
 "cells": [
  {
   "cell_type": "code",
   "execution_count": 25,
   "metadata": {},
   "outputs": [],
   "source": [
    "import numpy as np\n",
    "import pandas as pd"
   ]
  },
  {
   "cell_type": "code",
   "execution_count": 26,
   "metadata": {},
   "outputs": [],
   "source": [
    "df = pd.read_csv('yayes_dfs.csv')\n",
    "df['timestp'] = pd.to_datetime(df['timestp'])\n",
    "artist_list = df['cm_artist'].unique()"
   ]
  },
  {
   "cell_type": "code",
   "execution_count": 120,
   "metadata": {},
   "outputs": [
    {
     "name": "stdout",
     "output_type": "stream",
     "text": [
      "CPU times: user 21.3 s, sys: 32 ms, total: 21.3 s\n",
      "Wall time: 21.3 s\n"
     ]
    }
   ],
   "source": [
    "%%time\n",
    "artists_patched = []\n",
    "\n",
    "for i in artist_list:\n",
    "    \n",
    "    temp = df[df['cm_artist'] == i].copy()\n",
    "    temp['followers_diff'] = temp['followers'].diff()\n",
    "    artists_patched.append(yayes_og(temp.copy()))\n",
    "\n",
    "above_histories_patched = pd.concat(artists_patched)"
   ]
  },
  {
   "cell_type": "code",
   "execution_count": 121,
   "metadata": {},
   "outputs": [
    {
     "name": "stdout",
     "output_type": "stream",
     "text": [
      "CPU times: user 5.26 s, sys: 4 ms, total: 5.26 s\n",
      "Wall time: 5.25 s\n"
     ]
    }
   ],
   "source": [
    "%%time\n",
    "df_yayes = []\n",
    "for i in artist_list:\n",
    "    temp = df[df['cm_artist'] == i].copy()\n",
    "    temp['followers'] = yayes(temp['followers'])\n",
    "    df_yayes.append(temp)\n",
    "\n",
    "df2 = pd.concat(df_yayes)   "
   ]
  },
  {
   "cell_type": "markdown",
   "metadata": {},
   "source": [
    "## LOOK AT CASE WHERE FOLLOWERS BEGINS ON DECREASE THEN INCREASE"
   ]
  },
  {
   "cell_type": "code",
   "execution_count": 119,
   "metadata": {},
   "outputs": [],
   "source": [
    "def yayes(col, X = .15, last_day = False):\n",
    "    \n",
    "    #Don't need?\n",
    "    if type(col) == pd.Series:\n",
    "        col = col.values\n",
    "    col = col.astype('float32')\n",
    "    differences = np.diff(col)\n",
    "    max_i = len(differences)    \n",
    "\n",
    "    for i in range(len(col)-2):\n",
    "        \n",
    "        current_diff = differences[i]\n",
    "        next_diff = differences[i+1]\n",
    "        \n",
    "        if current_diff >= 0 and next_diff < 0:\n",
    "            \n",
    "            j = i + 2\n",
    "            \n",
    "            max_diff_threshold = next_diff\n",
    "            \n",
    "            while j < max_i and (0 <= differences[j] <= abs(max_diff_threshold * X)):\n",
    "                \n",
    "                j += 1\n",
    "                \n",
    "            if j < max_i and differences[j] > (.5*max_diff_threshold) and differences[j] > 0:\n",
    "                fill_value = col[i+1]\n",
    "                increase = (col[j+1] - col[i+1]) / (j - i)\n",
    "                \n",
    "                k, x = i + 2, 1\n",
    "                \n",
    "                while k <= j:\n",
    "                    col[k] = fill_value + (increase * x)\n",
    "                    k,x = k+1, x+1\n",
    "                    \n",
    "                differences = np.diff(col)\n",
    "    return col        "
   ]
  },
  {
   "cell_type": "code",
   "execution_count": 5,
   "metadata": {},
   "outputs": [],
   "source": [
    "def yayes_og(artist_df, last_day=False):\n",
    "    \n",
    "    '''\n",
    "    This function is used to impute missing values and treat data errors.  It's primary purpose is to \n",
    "    correct false dips and spikes in an artist's follower count over time.\n",
    "    \n",
    "    artist_df: a pandas dataframe containing all of the data for one artist\n",
    "    '''\n",
    "    \n",
    "    #Get list of indices to iterate over\n",
    "    indices = artist_df['followers_diff'].index.values\n",
    "    \n",
    "    for i in range(1, len(indices) - 1):\n",
    "        \n",
    "        #pandas series containing the differences in follower counts for adjacent entries (e.g. today's count - yesterday's count)\n",
    "        followers_diff = artist_df['followers_diff']\n",
    "        followers = artist_df['followers']\n",
    "        \n",
    "        f = followers_diff[indices[i]]\n",
    "        s = followers_diff[indices[i+1]]\n",
    "        \n",
    "\n",
    "        if f >= 0 and s < 0:\n",
    "            j = i+2\n",
    "            neg = False\n",
    "            \n",
    "            while j < len(indices) and followers_diff[indices[j]] <= abs(.15 * s):\n",
    "                \n",
    "                if followers_diff[indices[j]] < 0:\n",
    "                    neg=True\n",
    "                    break\n",
    "                    \n",
    "                j += 1\n",
    "            \n",
    "            if neg: continue\n",
    "            \n",
    "            elif j >= len(indices):\n",
    "                continue\n",
    "                \n",
    "            elif abs(.95*s) <= followers_diff[indices[j]] <= abs(1.05*s):\n",
    "                artist_df = lift_data(artist_df, i, j, indices)\n",
    "            \n",
    "            elif (followers_diff[indices[j]] > abs(1.05*s)) or (.5*s < followers_diff[indices[j]] < abs(.95*s)):\n",
    "                artist_df = lift_data(artist_df, i, j, indices)\n",
    "            \n",
    "            else:\n",
    "                continue\n",
    "    \n",
    "    if last_day:\n",
    "        last_foll = artist_df.loc[indices[len(artist_df)-1],'followers_diff']\n",
    "        last_diff = artist_df.loc[indices[len(artist_df)-1], 'followers'] \n",
    "        second_foll = artist_df.loc[indices[len(artist_df)-2], 'followers']\n",
    "        \n",
    "        if -artist_df.loc[indices[len(artist_df)-1], 'followers_diff'] > .99*artist_df.loc[indices[len(artist_df)-2], 'followers']:\n",
    "            artist_df.loc[indices[len(artist_df)-1], 'followers'] = artist_df.loc[indices[len(artist_df)-2], 'followers']\n",
    "            artist_df.loc[indices[len(artist_df)-1], 'followers_diff'] = 0\n",
    "\n",
    "    return artist_df\n",
    "            \n",
    "def lift_data(artist_df, i, j, indices):\n",
    "    \n",
    "    fill_val = artist_df.loc[indices[i],'followers']\n",
    "            \n",
    "    time_delta = (artist_df.loc[indices[j],'timestp'] - artist_df.loc[indices[i],'timestp']).days\n",
    "    followers_delta = artist_df.loc[indices[j], 'followers'] - artist_df.loc[indices[i], 'followers']\n",
    "\n",
    "    increase = followers_delta/time_delta\n",
    "    \n",
    "    i, x = i+1, 1\n",
    "    \n",
    "    while i < j:\n",
    "        artist_df.loc[indices[i], 'followers'] = fill_val + x*increase\n",
    "        x, i = x + 1, i + 1\n",
    "    \n",
    "    artist_df['followers_diff'] = artist_df['followers'].diff()\n",
    "    \n",
    "    return artist_df\n",
    "    "
   ]
  }
 ],
 "metadata": {
  "kernelspec": {
   "display_name": "Python 3",
   "language": "python",
   "name": "python3"
  },
  "language_info": {
   "codemirror_mode": {
    "name": "ipython",
    "version": 3
   },
   "file_extension": ".py",
   "mimetype": "text/x-python",
   "name": "python",
   "nbconvert_exporter": "python",
   "pygments_lexer": "ipython3",
   "version": "3.5.3"
  }
 },
 "nbformat": 4,
 "nbformat_minor": 2
}
